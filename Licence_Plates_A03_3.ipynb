{
 "cells": [
  {
   "cell_type": "markdown",
   "metadata": {},
   "source": [
    "# Information Provided"
   ]
  },
  {
   "cell_type": "markdown",
   "metadata": {},
   "source": [
    "In Ontario, government issued licence plates must obey the following rule:<br>\n",
    "\n",
    "**They contain four capital alphabetic characters followed by a crown (we will use a * instead) followed by three digits.**<br>\n",
    "\n",
    "We have to write a function:<br>\n",
    "\n",
    "**licence_plate()**<br>\n",
    "that consumes nothing and reads input from the keyboard asking the user to enter a valid licence plate using the input prompt:<br>\n",
    "\n",
    "**Please enter a valid Ontario licence plate:**<br>\n",
    "(Notice the space after the colon). The user gets at most 5 chances to do this and if they fail on all attempts, the function ends and returns None. On a failed attempt, the following error message is printed:<br>\n",
    "\n",
    "**Invalid licence plate.**<br>\n",
    "\n",
    "If a valid licence plate is entered, then a numeric equivalent of the licence plate is returned according to the following rules:<br>                   **104038**<br>\n",
    "\n",
    "1. Each character at the beginning corresponds to the position in the alphabet (starting with 1) multiplied by  10004-pos  where pos is the Python position in the licence plate where the letter occurs.\n",
    "2. The above number is added together and added with the last three digit number of the plate.<br>\n",
    "For example, the plate ABCZ*567 corresponds to<br>\n",
    "**$$1(1000)^{4−0} +2(1000)^{4−1} +3(1000)^{4−2} +26(1000)^{4−3} + 567 = 1002003026567$$**<br>\n",
    "where we note that A is the first letter of the alphabet, B is the second letter of the alphabet, C is the third letter of the alphabet and Z is the 26th letter of the alphabet."
   ]
  },
  {
   "cell_type": "markdown",
   "metadata": {},
   "source": [
    "## Samples\n",
    "1. licence_plate() => 1002003026567<br>\n",
    "and the following is printed (input is in bold)<br>\n",
    "Please enter a valid Ontario licence plate: **drill**<br>\n",
    "Invalid licence plate.\n",
    "Please enter a valid Ontario licence plate: **ABCZ*567**<br>\n",
    "2. licence_plate() => None<br>\n",
    "and the following is printed (input is in bold)<br>\n",
    "Please enter a valid Ontario licence plate: **no**<br>\n",
    "Invalid licence plate.<br>\n",
    "Please enter a valid Ontario licence plate: **still no**<br>\n",
    "Invalid licence plate.<br>\n",
    "Please enter a valid Ontario licence plate: **you can't make me!**<br>\n",
    "Invalid licence plate.<br>\n",
    "Please enter a valid Ontario licence plate: **I don't want to!**<br>\n",
    "Invalid licence plate.<br>\n",
    "Please enter a valid Ontario licence plate: **never!!!**<br>\n",
    "Invalid licence plate."
   ]
  },
  {
   "cell_type": "markdown",
   "metadata": {},
   "source": [
    "> **Restrictions:** <br> Do not import any modules other than math and check. You are always allowed to define your own helper/wrapper functions, as long as they meet the assignment restrictions. Do not use Python constructs from later modules (e.g. dictionaries, loops (for or while or others), zip, functions with default parameters, sorted, anything with sets or enumerators and/or lists, ord, chr, try and except).<br>\n",
    "\n",
    "Use only the functions and methods as follows:<br>\n",
    "\n",
    "abs, len, max, and min<br>\n",
    "Any method or constant in the math module<br>\n",
    "Any basic arithmetic or comparison operations (+, -, *, /, //, %, **, <, <=, ==, != >, >=)<br>\n",
    "Any basic logical operators (not, and, or)\n",
    "These typecasting operators: <br>int(), str(), float(), bool(), and type()<br>\n",
    "if statements<br>\n",
    "String slicing and indexing as well as string operations using the operators above.<br>\n",
    "String methods: capitalize, count, endswith, find, index, isalnum, isalpha, isdecimal, isdigit, islower, isnumeric, isspace, istitle, isupper, lower, lstrip, replace, rfind, rindex, rstrip, startswith, strip, swapcase, title, upper, zfill<br>\n",
    "The operation in for strings.<br>\n",
    "input and print as well as the formatting parameter end and method format. Note that all prompts must match exactly in order to obtain marks so ensure that you do not alter these prompts.<br>\n",
    "Recursion"
   ]
  },
  {
   "cell_type": "markdown",
   "metadata": {},
   "source": [
    "# Created Program"
   ]
  },
  {
   "cell_type": "markdown",
   "metadata": {},
   "source": [
    "## Defining the required constants"
   ]
  },
  {
   "cell_type": "code",
   "execution_count": 38,
   "metadata": {},
   "outputs": [],
   "source": [
    "input_prompt = \"Please enter a valid Ontario licence plate: \"\n",
    "error_msg = \"Invalid licence plate.\"\n",
    "alpha = '0ABCDEFGHIJKLMNOPQRSTUVWXYZ'"
   ]
  },
  {
   "cell_type": "markdown",
   "metadata": {},
   "source": [
    "## Importing the required modules"
   ]
  },
  {
   "cell_type": "code",
   "execution_count": 39,
   "metadata": {},
   "outputs": [],
   "source": [
    "import math"
   ]
  },
  {
   "cell_type": "markdown",
   "metadata": {},
   "source": [
    "## Some Helper function for our main function"
   ]
  },
  {
   "cell_type": "code",
   "execution_count": 40,
   "metadata": {},
   "outputs": [],
   "source": [
    "def validity(s):\n",
    "  '''\n",
    "  Returns True if the consumed string s is a valid licence plate, and False\n",
    "  if s is not a valid licence plate.\n",
    "  \n",
    "  validity?: Str -> Bool\n",
    "  '''\n",
    "  if len(s)==8:\n",
    "    if s[0:4].isalpha():\n",
    "      if s[:4].isupper():\n",
    "        if s[5:8].isalnum():\n",
    "          if s[4]=='*':\n",
    "            return True\n",
    "  else:\n",
    "    return False"
   ]
  },
  {
   "cell_type": "code",
   "execution_count": 41,
   "metadata": {},
   "outputs": [],
   "source": [
    "def change_to_numeric_equivalent(s):\n",
    "  '''\n",
    "  Returns the numeric equivalent of the consumed string s which is a valid \n",
    "  licenece plate. \n",
    "  \n",
    "  change_to_numeric_equivalent: Str -> Nat\n",
    "  Requires: valid licence plate\n",
    "  '''\n",
    "  a1 = int(alpha.find(s[0]))\n",
    "  a2 = int(alpha.find(s[1]))\n",
    "  a3 = int(alpha.find(s[2]))\n",
    "  a4 = int(alpha.find(s[3]))\n",
    "  n1 = int(s[5:8])\n",
    "  t1 = a1 * 1000 ** 4\n",
    "  t2 = a2 * 1000 ** 3\n",
    "  t3 = a3 * 1000 ** 2\n",
    "  t4 = a4 * 1000 ** 1\n",
    "  return t1 + t2 + t3 + t4 + n1"
   ]
  },
  {
   "cell_type": "code",
   "execution_count": 42,
   "metadata": {},
   "outputs": [],
   "source": [
    "def recursion(x):\n",
    "  '''\n",
    "  Returns the numeric equivalent of the input value(i) if it is a valid licence \n",
    "  plate and prints the error_msg(\"Invalid licence plate.\"). The user gets at \n",
    "  most (x + 1) chances to input a valid licence plate and if they fail on all \n",
    "  attempts, the function ends and returns None.\n",
    "  \n",
    "  recursion: Nat -> (Anyof Nat None)\n",
    "  '''\n",
    "  i = input(input_prompt)\n",
    "  if validity(i):\n",
    "    return(change_to_numeric_equivalent(i))\n",
    "  elif x == 0:\n",
    "    print(error_msg)\n",
    "    return None\n",
    "  else:\n",
    "    print(error_msg)\n",
    "    return recursion(x-1)"
   ]
  },
  {
   "cell_type": "markdown",
   "metadata": {},
   "source": [
    "## Our main function"
   ]
  },
  {
   "cell_type": "code",
   "execution_count": 43,
   "metadata": {},
   "outputs": [],
   "source": [
    "def licence_plate():\n",
    "  '''\n",
    "  Returns the numeric equivalent of the input value(i) if it is a valid licence \n",
    "  plate and prints the error_msg(\"Invalid licence plate.\"). The user gets at \n",
    "  most (x + 1) chances to input a valid licence plate and if they fail on all \n",
    "  attempts, the function ends and returns None.\n",
    "  \n",
    "  licence_plate: None -> (Anyof Nat None)\n",
    "  \n",
    "  Effects: Reads a string value from keyboard.\n",
    "           Prints a string message for maximum 5 times.\n",
    "  \n",
    "  Examples:\n",
    "        licence_plate() => 1002003026567\n",
    "        and prints\n",
    "        Please enter a valid Ontario licence plate: theta\n",
    "        Invalid licence plate.\n",
    "        Please enter a valid Ontario licence plate: ABCZ*567\n",
    "        \n",
    "        licence_plate() => None\n",
    "        and prints\n",
    "        Please enter a valid Ontario licence plate: no\n",
    "        Invalid licence plate.\n",
    "        Please enter a valid Ontario licence plate: still no\n",
    "        Invalid licence plate.\n",
    "        Please enter a valid Ontario licence plate: you can't make me!\n",
    "        Invalid licence plate.\n",
    "        Please enter a valid Ontario licence plate: I don't want to!\n",
    "        Invalid licence plate.\n",
    "        Please enter a valid Ontario licence plate: never!!!\n",
    "        Invalid licence plate.\n",
    "  '''\n",
    "  return recursion(4)"
   ]
  }
 ],
 "metadata": {
  "interpreter": {
   "hash": "aee8b7b246df8f9039afb4144a1f6fd8d2ca17a180786b69acc140d282b71a49"
  },
  "kernelspec": {
   "display_name": "Python 3.10.1 64-bit",
   "language": "python",
   "name": "python3"
  },
  "language_info": {
   "codemirror_mode": {
    "name": "ipython",
    "version": 3
   },
   "file_extension": ".py",
   "mimetype": "text/x-python",
   "name": "python",
   "nbconvert_exporter": "python",
   "pygments_lexer": "ipython3",
   "version": "3.10.1"
  },
  "orig_nbformat": 4
 },
 "nbformat": 4,
 "nbformat_minor": 2
}
