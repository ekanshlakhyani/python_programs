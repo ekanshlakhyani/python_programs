{
 "cells": [
  {
   "cell_type": "markdown",
   "metadata": {},
   "source": [
    "# Information Provided"
   ]
  },
  {
   "cell_type": "markdown",
   "metadata": {},
   "source": [
    "A string s is said to be a subsequence of a string t if and only if each character of s occurs in t in the same order (reworded, if you remove characters from t you can obtain s). As an example, the string \"meal\" is a subsequence of \"amenable\" but is not a subsequence of \"lame\".<br>\n",
    "\n",
    "**is_subsequence(s, t)**<br>\n",
    "which consumes two strings s and t, and returns True if s is a subsequence of t and False otherwise."
   ]
  },
  {
   "cell_type": "markdown",
   "metadata": {},
   "source": [
    "## Sample\n",
    "is_subsequence(\"\", \"word\") => True<br>\n",
    "is_subsequence(\"!kerns\", \"kerns!\") => False"
   ]
  },
  {
   "cell_type": "markdown",
   "metadata": {},
   "source": [
    "> **Restrictions:** <br> Do not import any modules other than math and check. You are always allowed to define your own helper/wrapper functions, as long as they meet the assignment restrictions. Do not use Python constructs from later modules (e.g. dictionaries, loops (for or while or others), zip, functions with default parameters, sorted, anything with sets or enumerators and/or lists, ord, chr, try and except).<br>\n",
    "\n",
    "Use only the functions and methods as follows:<br>\n",
    "\n",
    "abs, len, max, and min<br>\n",
    "Any method or constant in the math module<br>\n",
    "Any basic arithmetic or comparison operations (+, -, *, /, //, %, **, <, <=, ==, != >, >=)<br>\n",
    "Any basic logical operators (not, and, or)\n",
    "These typecasting operators: <br>int(), str(), float(), bool(), and type()<br>\n",
    "if statements<br>\n",
    "String slicing and indexing as well as string operations using the operators above.<br>\n",
    "String methods: capitalize, count, endswith, find, index, isalnum, isalpha, isdecimal, isdigit, islower, isnumeric, isspace, istitle, isupper, lower, lstrip, replace, rfind, rindex, rstrip, startswith, strip, swapcase, title, upper, zfill<br>\n",
    "The operation in for strings.<br>\n",
    "input and print as well as the formatting parameter end and method format. Note that all prompts must match exactly in order to obtain marks so ensure that you do not alter these prompts.<br>\n",
    "Recursion"
   ]
  },
  {
   "cell_type": "markdown",
   "metadata": {},
   "source": [
    "# Created Program"
   ]
  },
  {
   "cell_type": "markdown",
   "metadata": {},
   "source": [
    "## Our main function"
   ]
  },
  {
   "cell_type": "code",
   "execution_count": 1,
   "metadata": {},
   "outputs": [],
   "source": [
    "def is_subsequence(s, t):\n",
    "  '''\n",
    "  Returns True if the consumed string s is a subsequence of consumed string t.\n",
    "  And returns False if s is not a subsequence of t.\n",
    "  \n",
    "  is_subsequence: Str Str -> Bool\n",
    "  \n",
    "  Examples:\n",
    "      is_subsequence(\"\", \"\") => True\n",
    "      is_subsequence(\"\", \"abc\") => True\n",
    "      is_subsequence(\"abc\", \"\") => False\n",
    "      is_subsequence(\"\", \"word\") => True\n",
    "      is_subsequence(\"!round\", \"round!\") => False\n",
    "  '''\n",
    "  if s == '':\n",
    "    return True\n",
    "  elif t == '':\n",
    "    return False\n",
    "  elif s[0] == t[0]:\n",
    "    return is_subsequence(s[1:],t[1:])\n",
    "  elif s[0] != t[0]:\n",
    "    return is_subsequence(s,t[1:])"
   ]
  },
  {
   "cell_type": "markdown",
   "metadata": {},
   "source": [
    "# Testing"
   ]
  },
  {
   "cell_type": "markdown",
   "metadata": {},
   "source": [
    "## Sample\n",
    "is_subsequence(\"\", \"word\") => True<br>\n",
    "is_subsequence(\"!kerns\", \"kerns!\") => False"
   ]
  },
  {
   "cell_type": "code",
   "execution_count": 2,
   "metadata": {},
   "outputs": [
    {
     "name": "stdout",
     "output_type": "stream",
     "text": [
      "True\n"
     ]
    }
   ],
   "source": [
    "print(is_subsequence(\"\", \"word\"))"
   ]
  },
  {
   "cell_type": "code",
   "execution_count": 3,
   "metadata": {},
   "outputs": [
    {
     "name": "stdout",
     "output_type": "stream",
     "text": [
      "False\n"
     ]
    }
   ],
   "source": [
    "print(is_subsequence(\"!kerns\", \"kerns!\"))"
   ]
  },
  {
   "cell_type": "markdown",
   "metadata": {},
   "source": [
    "## Other tests\n",
    "is_subsequence(\"\", \"\") => True<br>\n",
    "is_subsequence(\"\", \"abc\") => True<br>\n",
    "is_subsequence(\"abc\", \"\") => False<br>\n",
    "is_subsequence(\"meal\", \"amenable\") => True<br>\n",
    "is_subsequence(\"lame\", \"amenable\") => False<br>\n",
    "is_subsequence(\"abcd\", \"abcd\") => True<br>\n",
    "is_subsequence(\"abcd\", \"dcba\") => False<br>\n",
    "is_subsequence(\"ace\", \"abcde\") => True<br>\n",
    "is_subsequence(\"abcd\", \"dcba\") => False<br>\n",
    "is_subsequence(\"gdhdt\", \"vfhhjvh\") => False"
   ]
  },
  {
   "cell_type": "code",
   "execution_count": 4,
   "metadata": {},
   "outputs": [
    {
     "name": "stdout",
     "output_type": "stream",
     "text": [
      "True\n"
     ]
    }
   ],
   "source": [
    "print(is_subsequence(\"\", \"\"))"
   ]
  },
  {
   "cell_type": "code",
   "execution_count": 5,
   "metadata": {},
   "outputs": [
    {
     "name": "stdout",
     "output_type": "stream",
     "text": [
      "True\n"
     ]
    }
   ],
   "source": [
    "print(is_subsequence(\"\", \"abc\"))"
   ]
  },
  {
   "cell_type": "code",
   "execution_count": 6,
   "metadata": {},
   "outputs": [
    {
     "name": "stdout",
     "output_type": "stream",
     "text": [
      "False\n"
     ]
    }
   ],
   "source": [
    "print(is_subsequence(\"abc\", \"\"))"
   ]
  },
  {
   "cell_type": "code",
   "execution_count": 7,
   "metadata": {},
   "outputs": [
    {
     "name": "stdout",
     "output_type": "stream",
     "text": [
      "True\n"
     ]
    }
   ],
   "source": [
    "print(is_subsequence(\"meal\", \"amenable\"))"
   ]
  },
  {
   "cell_type": "code",
   "execution_count": 8,
   "metadata": {},
   "outputs": [
    {
     "name": "stdout",
     "output_type": "stream",
     "text": [
      "False\n"
     ]
    }
   ],
   "source": [
    "print(is_subsequence(\"lame\", \"amenable\"))"
   ]
  },
  {
   "cell_type": "code",
   "execution_count": 9,
   "metadata": {},
   "outputs": [
    {
     "name": "stdout",
     "output_type": "stream",
     "text": [
      "True\n"
     ]
    }
   ],
   "source": [
    "print(is_subsequence(\"abcd\", \"abcd\"))"
   ]
  },
  {
   "cell_type": "code",
   "execution_count": 10,
   "metadata": {},
   "outputs": [
    {
     "name": "stdout",
     "output_type": "stream",
     "text": [
      "False\n"
     ]
    }
   ],
   "source": [
    "print(is_subsequence(\"abcd\", \"dcba\"))"
   ]
  },
  {
   "cell_type": "code",
   "execution_count": 11,
   "metadata": {},
   "outputs": [
    {
     "name": "stdout",
     "output_type": "stream",
     "text": [
      "True\n"
     ]
    }
   ],
   "source": [
    "print(is_subsequence(\"ace\", \"abcde\"))"
   ]
  },
  {
   "cell_type": "code",
   "execution_count": 12,
   "metadata": {},
   "outputs": [
    {
     "name": "stdout",
     "output_type": "stream",
     "text": [
      "False\n"
     ]
    }
   ],
   "source": [
    "print(is_subsequence(\"abcd\", \"dcba\"))"
   ]
  },
  {
   "cell_type": "code",
   "execution_count": 13,
   "metadata": {},
   "outputs": [
    {
     "name": "stdout",
     "output_type": "stream",
     "text": [
      "False\n"
     ]
    }
   ],
   "source": [
    "print(is_subsequence(\"gdhdt\", \"vfhhjvh\"))"
   ]
  }
 ],
 "metadata": {
  "interpreter": {
   "hash": "aee8b7b246df8f9039afb4144a1f6fd8d2ca17a180786b69acc140d282b71a49"
  },
  "kernelspec": {
   "display_name": "Python 3.10.1 64-bit",
   "language": "python",
   "name": "python3"
  },
  "language_info": {
   "codemirror_mode": {
    "name": "ipython",
    "version": 3
   },
   "file_extension": ".py",
   "mimetype": "text/x-python",
   "name": "python",
   "nbconvert_exporter": "python",
   "pygments_lexer": "ipython3",
   "version": "3.10.1"
  },
  "orig_nbformat": 4
 },
 "nbformat": 4,
 "nbformat_minor": 2
}
