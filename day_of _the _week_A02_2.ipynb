{
 "cells": [
  {
   "cell_type": "markdown",
   "metadata": {},
   "source": [
    "# Information Provided"
   ]
  },
  {
   "cell_type": "markdown",
   "metadata": {},
   "source": [
    "We have to write a program which tells us the day of the weel on a particulare date."
   ]
  },
  {
   "cell_type": "markdown",
   "metadata": {},
   "source": [
    "We have to write a function:<br>\n",
    "**day_of_the_week(d, m, y)**<br>\n",
    "which consumes a valid day, month (with January as 1 up to December as 12) and year in the Gregorian Calendar and returns the day of the week according to the above formula.<br>To avoid pecularities with early dates (such as the British Calendar Act of 1751), our tests will only involve years that are at least 1753. "
   ]
  },
  {
   "cell_type": "markdown",
   "metadata": {},
   "source": [
    "## Sample\n",
    "day_of_the_week(1,1,2190021) => \"Friday\""
   ]
  },
  {
   "cell_type": "markdown",
   "metadata": {},
   "source": [
    "> **Restrictions:** <br> Do not import any modules other than math and check. You are always allowed to define your own helper/wrapper functions, as long as they meet the assignment restrictions. Do not use Python constructs from later modules (e.g. dictionaries, loops (for or while or others), zip, functions with default parameters, sorted, anything with sets or enumerators, slicing, indexing (square brackets), string methods, and/or lists, ord, chr, try and except).<br>\n",
    "\n",
    "Use only the functions and methods as follows:<br>\n",
    "\n",
    "abs, len, max, and min<br>\n",
    "Any method or constant in the math module<br>\n",
    "Any basic arithmetic or comparison operations (+, -, *, /, //, %, **, <, <=, ==, != >, >=)<br>\n",
    "Any basic logical operators (not, and, or)\n",
    "These typecasting operators: <br>int(), str(), float(), bool(), and type()<br>\n",
    "if statements<br>\n",
    "Recursion"
   ]
  },
  {
   "cell_type": "markdown",
   "metadata": {},
   "source": [
    "# Created Program"
   ]
  },
  {
   "cell_type": "markdown",
   "metadata": {},
   "source": [
    "Have you ever wanted to know what day of the week it is? Turns out there's a formula to compute this created by the German mathematician Julius Christian Johannes Zeller. To compute this, you need to compute the remainder when you divide by 7 of the following value:<br>\n",
    "\n",
    "**$$d + ⌊\\frac{13(𝑚+1)} {5}⌋ + 𝐾 + ⌊\\frac{𝐾} {4}⌋ + ⌊\\frac {𝐽} {4}⌋+ 5𝐽 + 6 $$**\n",
    "where...\n",
    "\n",
    "**⌊  and  ⌋**  denote the floor of a number.<br>\n",
    "**𝑑**  is the day of the month as consumed by the function below.<br>\n",
    "**𝑚**  is the month with March as 3 up to December which is 12 and finally January and February are 13 and 14 respectively.<br>\n",
    "**𝐾**  is the year of the century, namely the last two digits of the current year.<br>\n",
    " Notice that if the month is January or February, because we think of these as the 13th and 14th month of the previous year, you will have to decrease this year by one if the month is January or February.<br>\n",
    "**𝐽**  is the zero-based century, that is, the current century where, for example, year 1 is century 0 and year 1984 is 19 and so on. This is also subject to the above correction for January and February.<br>\n",
    "The value computed by the above begins with Sunday as 0 then following the days of the week until Saturday which is 6.\n"
   ]
  },
  {
   "cell_type": "markdown",
   "metadata": {},
   "source": [
    "## importing the required modules"
   ]
  },
  {
   "cell_type": "code",
   "execution_count": 21,
   "metadata": {},
   "outputs": [],
   "source": [
    "import math"
   ]
  },
  {
   "cell_type": "markdown",
   "metadata": {},
   "source": [
    "## Creating some helper funtions for our main function"
   ]
  },
  {
   "cell_type": "code",
   "execution_count": 22,
   "metadata": {},
   "outputs": [],
   "source": [
    "def Zellers_month(month):\n",
    "  '''\n",
    "  Returns month with March as 3 up to December which is 12 and finally January \n",
    "  and February are 13 and 14 respectively, when given month in normal format \n",
    "  (with January as 1 up to December as 12).\n",
    "  \n",
    "  Zellers_month: Nat -> Nat\n",
    "  Requires: 0 < month < 13\n",
    "  '''\n",
    "  if month < 3:\n",
    "    return month + 12\n",
    "  else:\n",
    "    return month"
   ]
  },
  {
   "cell_type": "code",
   "execution_count": 23,
   "metadata": {},
   "outputs": [],
   "source": [
    "def Zellers_year(year, normal_month):\n",
    "  '''\n",
    "  Returns the year according to the Zeller meaning January is the 13th month \n",
    "  February is the 14th. Therefore if the value of normal_nonth is 1 or 2 \n",
    "  we subtract 1 from the year.\n",
    "  \n",
    "  Zellers_year: Nat -> Nat\n",
    "  '''\n",
    "  if normal_month < 3:\n",
    "    return year - 1\n",
    "  else:\n",
    "    return year"
   ]
  },
  {
   "cell_type": "markdown",
   "metadata": {},
   "source": [
    "## Our main function"
   ]
  },
  {
   "cell_type": "code",
   "execution_count": 24,
   "metadata": {},
   "outputs": [],
   "source": [
    "def day_of_the_week(d, m, y):\n",
    "  '''\n",
    "  Returns the day of the week on the given date where d is the day of the month,\n",
    "  m is the number of the given month (with January as 1 up to December as 12),\n",
    "  and y is the year in Gregorian Calender. It produces the day according to the\n",
    "  Zeller's Formula.\n",
    "  \n",
    "  day_of_the_week: Nat Nat Nat -> Str\n",
    "  Requires: d < 32 and m < 13\n",
    "  \n",
    "  \n",
    "  Examples:\n",
    "     day_of_the_week(1,1,2190021) => \"Friday\"\n",
    "     day_of_the_week(22,1,2022) => \"Saturday\"\n",
    "  '''\n",
    "  Zm = Zellers_month(m)\n",
    "  K = Zellers_year(y, m) % 100\n",
    "  J = Zellers_year(y, m) // 100\n",
    "  term = math.floor((13 * (Zm + 1)) / 5)\n",
    "  formula_value = d + term + K + (K // 4) + (J // 4) + (5 * J) + 6\n",
    "  day_number = formula_value % 7\n",
    "  if day_number == 0:\n",
    "    return 'Sunday'\n",
    "  elif day_number == 1:\n",
    "    return 'Monday'\n",
    "  elif day_number == 2:\n",
    "    return 'Tuesday'\n",
    "  elif day_number == 3:\n",
    "    return 'Wednesday'\n",
    "  elif day_number == 4:\n",
    "    return 'Thursday'\n",
    "  elif day_number == 5:\n",
    "    return 'Friday'\n",
    "  else:\n",
    "    return 'Saturday'"
   ]
  },
  {
   "cell_type": "markdown",
   "metadata": {},
   "source": [
    "# Testing"
   ]
  },
  {
   "cell_type": "markdown",
   "metadata": {},
   "source": [
    "## Sample\n",
    "day_of_the_week(1,1,2190021) => \"Friday\""
   ]
  },
  {
   "cell_type": "code",
   "execution_count": 25,
   "metadata": {},
   "outputs": [
    {
     "name": "stdout",
     "output_type": "stream",
     "text": [
      "Friday\n"
     ]
    }
   ],
   "source": [
    "print(day_of_the_week(1,1,2190021))"
   ]
  },
  {
   "cell_type": "markdown",
   "metadata": {},
   "source": [
    "## Other tests\n",
    "day_of_the_week(17,2,2003) => 'Monday'<br>\n",
    "day_of_the_week(18,2,2003) => 'Tuesday'<br>\n",
    "day_of_the_week(19,2,2003) => 'Wedneday'<br>\n",
    "day_of_the_week(20,2,2003) => 'Thursday'<br> \n",
    "day_of_the_week(21,2,2003) => \"Friday\"<br>\n",
    "day_of_the_week(22,2,2003) => \"Saturday\"<br>\n",
    "day_of_the_week(23,2,2003) => \"Sunday\"\n"
   ]
  },
  {
   "cell_type": "code",
   "execution_count": 26,
   "metadata": {},
   "outputs": [
    {
     "name": "stdout",
     "output_type": "stream",
     "text": [
      "Monday\n"
     ]
    }
   ],
   "source": [
    "print(day_of_the_week(17,2,2003))"
   ]
  },
  {
   "cell_type": "code",
   "execution_count": 27,
   "metadata": {},
   "outputs": [
    {
     "name": "stdout",
     "output_type": "stream",
     "text": [
      "Tuesday\n"
     ]
    }
   ],
   "source": [
    "print(day_of_the_week(18,2,2003))"
   ]
  },
  {
   "cell_type": "code",
   "execution_count": 28,
   "metadata": {},
   "outputs": [
    {
     "name": "stdout",
     "output_type": "stream",
     "text": [
      "Wednesday\n"
     ]
    }
   ],
   "source": [
    "print(day_of_the_week(19,2,2003))"
   ]
  },
  {
   "cell_type": "code",
   "execution_count": 29,
   "metadata": {},
   "outputs": [
    {
     "name": "stdout",
     "output_type": "stream",
     "text": [
      "Thursday\n"
     ]
    }
   ],
   "source": [
    "print(day_of_the_week(20,2,2003))"
   ]
  },
  {
   "cell_type": "code",
   "execution_count": 30,
   "metadata": {},
   "outputs": [
    {
     "name": "stdout",
     "output_type": "stream",
     "text": [
      "Friday\n"
     ]
    }
   ],
   "source": [
    "print(day_of_the_week(21,2,2003))"
   ]
  },
  {
   "cell_type": "code",
   "execution_count": 31,
   "metadata": {},
   "outputs": [
    {
     "name": "stdout",
     "output_type": "stream",
     "text": [
      "Saturday\n"
     ]
    }
   ],
   "source": [
    "print(day_of_the_week(22,2,2003))"
   ]
  },
  {
   "cell_type": "code",
   "execution_count": 32,
   "metadata": {},
   "outputs": [
    {
     "name": "stdout",
     "output_type": "stream",
     "text": [
      "Sunday\n"
     ]
    }
   ],
   "source": [
    "print(day_of_the_week(23,2,2003))"
   ]
  }
 ],
 "metadata": {
  "interpreter": {
   "hash": "aee8b7b246df8f9039afb4144a1f6fd8d2ca17a180786b69acc140d282b71a49"
  },
  "kernelspec": {
   "display_name": "Python 3.10.1 64-bit",
   "language": "python",
   "name": "python3"
  },
  "language_info": {
   "codemirror_mode": {
    "name": "ipython",
    "version": 3
   },
   "file_extension": ".py",
   "mimetype": "text/x-python",
   "name": "python",
   "nbconvert_exporter": "python",
   "pygments_lexer": "ipython3",
   "version": "3.10.1"
  },
  "orig_nbformat": 4
 },
 "nbformat": 4,
 "nbformat_minor": 2
}
