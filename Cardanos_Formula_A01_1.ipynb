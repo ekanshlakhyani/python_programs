{
 "cells": [
  {
   "cell_type": "markdown",
   "metadata": {},
   "source": [
    "# Information Provided"
   ]
  },
  {
   "cell_type": "markdown",
   "metadata": {},
   "source": [
    "The task in front of us is to write a program which uses the famous **Cardano's Formula** to find roots of a Cubic Polynomial. The idea is as follows."
   ]
  },
  {
   "cell_type": "markdown",
   "metadata": {},
   "source": [
    "Without loss of generality, we can assume our cubic is of the form:\n",
    "<br>        **$f(x) = x^3+px+q$**\n",
    "<br> Since any cubic polynomial not in this form can be transformed into this form by some algebra which we suppress.\n",
    "<br>In this form, Cardano's Formula can be used to give a real root as follows:\n",
    "<br>**$$x = \\sqrt[3]{\\frac {-q} {2} + \\sqrt{\\frac {q^2} {4} +\\frac{p^3} {27}}} + \\sqrt[3]{\\frac {-q} {2} - \\sqrt{\\frac {q^2} {4} +\\frac{p^3} {27}}}$$**"
   ]
  },
  {
   "cell_type": "markdown",
   "metadata": {},
   "source": [
    "We have to write a function:\n",
    "<br> **cardano(p, q)** <br>\n",
    "which consumes a polynomial of the form:\n",
    "<br>        **$f(x) = x^3+px+q$**  <br> \n",
    "for real floating point values p, q and returns a root of this polynomial as given by the above formula. We may assume that the polynomial will only ever have one real root so your function will return one value and you may also assume the radical under the square root is always non-negative so we will be guaranteed to get a real number."
   ]
  },
  {
   "cell_type": "markdown",
   "metadata": {},
   "source": [
    "## Samples\n",
    "cardano(0.0, 224503.0) => -60.77720391360611<br>\n",
    "cardano(5.0, 2.5) => -0.47813800497942904"
   ]
  },
  {
   "cell_type": "markdown",
   "metadata": {},
   "source": [
    "> **Restrictions:** <br> We acn not import any modules other than math and a testing module. We are allowed to define our own helper/wrapper functions, as long as they meet the assignment restrictions. We can not use Python constructs from later modules (e.g., if statements, dictionaries, loops (for, while, or others), zip, functions with default parameters, sorted, anything with sets or enumerators, slicing, indexing (square brackets), string methods, and/or lists, ord, chr, try and except). <br>\n",
    "We can only use the functions and methods as follows:<br>\n",
    "abs, len, max, and min<br>\n",
    "Any method or constant in the math module<br>\n",
    "Any basic arithmetic operation (+, -, *, /, //, %, **)<br>\n",
    "These typecasting operators: int(), str(), float(), and type()"
   ]
  },
  {
   "cell_type": "markdown",
   "metadata": {},
   "source": [
    "# Created Program"
   ]
  },
  {
   "cell_type": "markdown",
   "metadata": {},
   "source": [
    "## importing the required modules"
   ]
  },
  {
   "cell_type": "code",
   "execution_count": 152,
   "metadata": {},
   "outputs": [],
   "source": [
    "import math"
   ]
  },
  {
   "cell_type": "markdown",
   "metadata": {},
   "source": [
    "## Creating a helper funtion for our main function"
   ]
  },
  {
   "cell_type": "code",
   "execution_count": 153,
   "metadata": {},
   "outputs": [],
   "source": [
    "\n",
    "def cbrt(x):\n",
    "  '''\n",
    "  Returns the real cube root of x\n",
    "  \n",
    "  cbrt: Float -> Float\n",
    "  \n",
    "  Examples:\n",
    "     cbrt(0.0) => 0.0\n",
    "     cbrt(-8) => -2.0\n",
    "  '''\n",
    "  sign = math.copysign(1.0, x)\n",
    "  return sign*(sign*x)**(1/3)"
   ]
  },
  {
   "cell_type": "markdown",
   "metadata": {},
   "source": [
    "## Our main function"
   ]
  },
  {
   "cell_type": "code",
   "execution_count": 154,
   "metadata": {},
   "outputs": [],
   "source": [
    "def cardano(p, q):\n",
    "  '''\n",
    "  Returns the roots of the cubic polynomial of the generic form using Cardano's\n",
    "  formula.\n",
    "  \n",
    "  cardano: Float Float -> Float\n",
    "  \n",
    "  Examples:\n",
    "  \n",
    "  cardano(0.0, 224503.0) => -60.77720391360611\n",
    "  cardano(5.0, 2.5) => -0.47813800497942904\n",
    "     \n",
    "  '''\n",
    "  x1 = cbrt((-q/2) + math.sqrt(((q**2)/4) + (p**3)/27))\n",
    "  x2 = x1 + cbrt((-q/2) - math.sqrt(((q**2)/4) + (p**3)/27))\n",
    "  return x2"
   ]
  },
  {
   "cell_type": "markdown",
   "metadata": {},
   "source": [
    "# Testing"
   ]
  },
  {
   "cell_type": "markdown",
   "metadata": {},
   "source": [
    "## Samples\n",
    "cardano(0.0, 224503.0) => -60.77720391360611<br>\n",
    "cardano(5.0, 2.5) => -0.47813800497942904"
   ]
  },
  {
   "cell_type": "code",
   "execution_count": 155,
   "metadata": {},
   "outputs": [
    {
     "name": "stdout",
     "output_type": "stream",
     "text": [
      "-60.777203913606094\n"
     ]
    }
   ],
   "source": [
    "print(cardano(0.0, 224503.0))"
   ]
  },
  {
   "cell_type": "code",
   "execution_count": 156,
   "metadata": {},
   "outputs": [
    {
     "data": {
      "text/plain": [
       "-0.47813800497942904"
      ]
     },
     "execution_count": 156,
     "metadata": {},
     "output_type": "execute_result"
    }
   ],
   "source": [
    "cardano(5.0, 2.5)"
   ]
  },
  {
   "cell_type": "markdown",
   "metadata": {},
   "source": [
    "## Other tests\n",
    "zero case:<br>\n",
    "cardano(0.0, 0.0) => 0.0\n",
    "<br>cardano(1000.0, 1000.0) => -0.9990029880547269<br>\n",
    "Decimal Case:<br>\n",
    "cardano(0.55, 0.75) => -0.710769886553251<br>\n",
    "-ve case: <br>\n",
    "cardano(-3.0, -5.0) => 2.2790187861665934<br>\n",
    "cardano(6567.0, 76.9) => -0.011710065234396438<br>\n",
    "p -ve case: <br>\n",
    "cardano(-5.87, 76.9) => -4.7109982304390075<br>\n",
    "q -ve case: <br> \n",
    "cardano(5.87, -76.9) => 3.794341026791546\n"
   ]
  },
  {
   "cell_type": "code",
   "execution_count": 157,
   "metadata": {},
   "outputs": [
    {
     "name": "stdout",
     "output_type": "stream",
     "text": [
      "0.0\n"
     ]
    }
   ],
   "source": [
    "print(cardano(0.0, 0.0))\n"
   ]
  },
  {
   "cell_type": "code",
   "execution_count": 158,
   "metadata": {},
   "outputs": [
    {
     "name": "stdout",
     "output_type": "stream",
     "text": [
      "-0.9990029880547269\n"
     ]
    }
   ],
   "source": [
    "print(cardano(1000.0, 1000.0))\n"
   ]
  },
  {
   "cell_type": "code",
   "execution_count": 159,
   "metadata": {},
   "outputs": [
    {
     "name": "stdout",
     "output_type": "stream",
     "text": [
      "-0.710769886553251\n"
     ]
    }
   ],
   "source": [
    "print(cardano(0.55, 0.75))"
   ]
  },
  {
   "cell_type": "code",
   "execution_count": 160,
   "metadata": {},
   "outputs": [
    {
     "name": "stdout",
     "output_type": "stream",
     "text": [
      "2.2790187861665934\n"
     ]
    }
   ],
   "source": [
    "print(cardano(-3.0, -5.0))\n"
   ]
  },
  {
   "cell_type": "code",
   "execution_count": 161,
   "metadata": {},
   "outputs": [
    {
     "name": "stdout",
     "output_type": "stream",
     "text": [
      "-0.011710065234396438\n"
     ]
    }
   ],
   "source": [
    "print(cardano(6567.0, 76.9))\n"
   ]
  },
  {
   "cell_type": "code",
   "execution_count": 162,
   "metadata": {},
   "outputs": [
    {
     "name": "stdout",
     "output_type": "stream",
     "text": [
      "-4.7109982304390075\n"
     ]
    }
   ],
   "source": [
    "print(cardano(-5.87, 76.9))\n"
   ]
  },
  {
   "cell_type": "code",
   "execution_count": 163,
   "metadata": {},
   "outputs": [
    {
     "name": "stdout",
     "output_type": "stream",
     "text": [
      "3.794341026791546\n"
     ]
    }
   ],
   "source": [
    "print(cardano(5.87, -76.9))\n"
   ]
  }
 ],
 "metadata": {
  "interpreter": {
   "hash": "31f2aee4e71d21fbe5cf8b01ff0e069b9275f58929596ceb00d14d90e3e16cd6"
  },
  "kernelspec": {
   "display_name": "Python 3.8.2 64-bit",
   "language": "python",
   "name": "python3"
  },
  "language_info": {
   "codemirror_mode": {
    "name": "ipython",
    "version": 3
   },
   "file_extension": ".py",
   "mimetype": "text/x-python",
   "name": "python",
   "nbconvert_exporter": "python",
   "pygments_lexer": "ipython3",
   "version": "3.10.1"
  },
  "orig_nbformat": 4
 },
 "nbformat": 4,
 "nbformat_minor": 2
}
