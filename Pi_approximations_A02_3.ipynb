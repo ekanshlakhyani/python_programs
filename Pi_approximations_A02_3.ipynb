{
 "cells": [
  {
   "cell_type": "markdown",
   "metadata": {},
   "source": [
    "# Information Provided"
   ]
  },
  {
   "cell_type": "markdown",
   "metadata": {},
   "source": [
    "we will discuss three approximations of  𝜋  to determine which one is computationally most accurate."
   ]
  },
  {
   "cell_type": "markdown",
   "metadata": {},
   "source": [
    "**Method 1: The method of Liu Hui**<br>\n",
    "\n",
    "According to https://mathshistory.st-andrews.ac.uk/Biographies/Liu_Hui/, Liu Hui was a Chinese mathematician who lived from 220-280 AD. He lived in the Kingdom of Wei during the Three Kingdoms period of China. Not much is known about his life except that he wrote two works. One was an extremely important commentary written in 263 on the Jiuzhang suanshu or, as it is more commonly called Nine Chapters on the Mathematical Art, in which he was possibly the first mathematician to discover, understand and use negative numbers.<br>\n",
    "\n",
    "More importantly for us, in his book he discusses the following way to compute  𝜋 . The idea is basically that a regular  𝑛  sided polygon is roughly the same as a circle. Hence both should have the same area (some of you might be familiar with how Archimedes did this but he used perimeters instead of areas). We suppress the details and just display the final answer. The  𝑛 th approximation is given by:<br>\n",
    "\n",
    "**$$ ≈ 3⋅2^𝑛⋅\\sqrt{2-\\sqrt{2+\\sqrt{2+\\sqrt{2+\\sqrt{2+\\sqrt{2+...+\\sqrt{2+1}}}}}}}$$**<br>\n",
    "where the number of times  $$\\sqrt{2+...}$$ appears is equal to  **𝑛** . In particular, the zeroth approximation is  **$$3⋅2^0⋅\\sqrt{2−1} = 3$$** , the first is  **$$3⋅2^1⋅\\sqrt{2−\\sqrt{2+1}} ≈ 3.105828540$$** , the second is  **$$3⋅2^2⋅\\sqrt{2−\\sqrt{2+\\sqrt{2+1}}}≈3.132628610$$**  and so on. We should note that eventually we will multiply a very large number by a very small floating point number which Python won't be able to do very well."
   ]
  },
  {
   "cell_type": "markdown",
   "metadata": {},
   "source": [
    "**Method 2: Madhava**<br>\n",
    "\n",
    "Next is the method of Madhava of Sangamagramma. According to https://mathshistory.st-andrews.ac.uk/Biographies/Madhava/, Madhava was born near Cochin on the coast in the Kerala state in southwestern India in 1350 and died in 1425. Madhava discovered the series equivalent to the Maclaurin expansions of  sin(𝑥) ,  cos(𝑥) , and  arctan(𝑥)  around 1400, which is over two hundred years before they were rediscovered in Europe. For us, the relevant bit is the series for  arctan(𝑥)  which lead to the following approximation for  𝜋 :\n",
    "\n",
    "**$$\\sqrt{12}\\sum_{k=0}^{\\infty} \\frac{(\\frac{-1}{3})^k}{2k + 1}=\\sqrt{12}(\\frac{1}{1⋅3^0}-\\frac{1}{3⋅3^1}+\\frac{1}{5⋅3^2}-\\frac{1}{7⋅3^3}+...)$$** \n",
    "To explain the notation, the  Σ  symbol above means we're summing all fractions of the form  $$\\frac{(\\frac{-1}{3})^k}{2k + 1}$$  where  𝑘  starts at 0 and goes to infinity. For us, we will say that the  𝑛 th approximation is given when we use the terms from  𝑘=0  up to  𝑘=𝑛 . This means the zeroth approximation is  $$\\sqrt{12}(\\frac{1}{1⋅3^0})=3.4641016151377544$$, the first approximation is  $$\\sqrt{12}(\\frac{1}{1⋅3^0}-\\frac{1}{3⋅3^1})≈3.0792014356780038$$ , the second approximation is  $$\\sqrt{12}(\\frac{1}{1⋅3^0}-\\frac{1}{3⋅3^1}+\\frac{1}{5⋅3^2}+\\frac{1}{5⋅3^2})≈3.156181471569954213542$$  and so on.\n",
    "\n"
   ]
  },
  {
   "cell_type": "markdown",
   "metadata": {},
   "source": [
    "**Method 3: Newton and Euler**\n",
    "\n",
    "Lastly, we talk about the methods from Calculus due to Isaac Newton (1643-1727) and Leonard Euler (1707-1783). Both were prolific mathematicians in the Renaissance age in Europe. Newton is best known for being the founder of Calculus (with Liebniz) and Euler is arguably the most prolific mathemtaician of all time. For more information, I encourage you to read https://mathshistory.st-andrews.ac.uk/Biographies/Newton/ and https://mathshistory.st-andrews.ac.uk/Biographies/Euler/.\n",
    "\n",
    "The approximation they get is\n",
    "\n",
    "$$2(1+\\frac1 3(1+\\frac2 5(1+\\frac3 7(1+...))))$$ \n",
    "and the pattern continues with the numerator of the fractions above being the natural numbers and the denominators being the odd numbers starting from 3. We say that the  𝑛 th approximation has  𝑛  total fractions in the sum on the right. So the zeroth approximation is just 2. The first approximation is  $$2(1+\\frac1 3(1))=8/3≈2.666666667$$. The second approximation is  $$2(1+\\frac1 3(1+\\frac2 5(1)))=44/15≈2.933333333$$  and so on.\n",
    "\n",
    "Write a function:<br>\n",
    "\n",
    "**pi_approximation(n, method)**\n",
    "that consumes a natural number  𝑛  and a string method equal to one of \"Liu Hui\", \"Madhava\" or \"Newton-Euler\" and returns the corresponding computed approximation as a floating point value. You may assume that  𝑛≤100  for testing purposes."
   ]
  },
  {
   "cell_type": "markdown",
   "metadata": {},
   "source": [
    "Warning! Our solutions should code the above algorithms as specified above."
   ]
  },
  {
   "cell_type": "markdown",
   "metadata": {},
   "source": [
    "## Sample\n",
    "pi_approximation(0, \"Newton-Euler\") => 2.0<br>\n",
    "pi_approximation(1, \"Madhava\") => 3.0792014356780038<br>\n",
    "pi_approximation(2, \"Liu Hui\") => 3.132628613281237"
   ]
  },
  {
   "cell_type": "markdown",
   "metadata": {},
   "source": [
    "> **Restrictions:** <br> Do not import any modules other than math and check. You are always allowed to define your own helper/wrapper functions, as long as they meet the assignment restrictions. Do not use Python constructs from later modules (e.g. dictionaries, loops (for or while or others), zip, functions with default parameters, sorted, anything with sets or enumerators, slicing, indexing (square brackets), string methods, and/or lists, ord, chr, try and except).<br>\n",
    "\n",
    "Use only the functions and methods as follows:<br>\n",
    "\n",
    "abs, len, max, and min<br>\n",
    "Any method or constant in the math module<br>\n",
    "Any basic arithmetic or comparison operations (+, -, *, /, //, %, **, <, <=, ==, != >, >=)<br>\n",
    "Any basic logical operators (not, and, or)\n",
    "These typecasting operators: <br>int(), str(), float(), bool(), and type()<br>\n",
    "if statements<br>\n",
    "Recursion"
   ]
  },
  {
   "cell_type": "markdown",
   "metadata": {},
   "source": [
    "# Created Program"
   ]
  },
  {
   "cell_type": "markdown",
   "metadata": {},
   "source": [
    "## Defining the required constants"
   ]
  },
  {
   "cell_type": "code",
   "execution_count": 533,
   "metadata": {},
   "outputs": [],
   "source": [
    "method1 = \"Liu Hui\"\n",
    "method2 = \"Madhava\"\n",
    "method3 = \"Newton-Euler\""
   ]
  },
  {
   "cell_type": "markdown",
   "metadata": {},
   "source": [
    "## importing the required modules"
   ]
  },
  {
   "cell_type": "code",
   "execution_count": 534,
   "metadata": {},
   "outputs": [],
   "source": [
    "import math"
   ]
  },
  {
   "cell_type": "markdown",
   "metadata": {},
   "source": [
    "## Creating some helper funtions for our main function"
   ]
  },
  {
   "cell_type": "code",
   "execution_count": 535,
   "metadata": {},
   "outputs": [],
   "source": [
    "def method1_recursion(n):\n",
    "  '''\n",
    "  Returns the recursive step for the first method consuming n, when producing\n",
    "  nth approximation of pi.\n",
    "  \n",
    "  method1_recursion: Nat -> Float\n",
    "  Requires: n <= 100\n",
    "  '''\n",
    "  if n == 0:\n",
    "    return 1\n",
    "  else:\n",
    "    return math.sqrt(2 + method1_recursion(n - 1))"
   ]
  },
  {
   "cell_type": "code",
   "execution_count": 536,
   "metadata": {},
   "outputs": [],
   "source": [
    "def method2_recursion(n):\n",
    "  '''\n",
    "  Returns the recursive step for the second method consuming n, when producing\n",
    "  nth approximation of pi.\n",
    "  \n",
    "  method2_recursion: Nat -> Float\n",
    "  Requires: n <= 100\n",
    "  '''\n",
    "  a = 2*n + 1\n",
    "  x = 1 / ((3 ** n) * a)\n",
    "  if n == 0:\n",
    "    return 1 \n",
    "  elif n % 2 == 0:\n",
    "    return  x + method2_recursion(n-1)\n",
    "  else:\n",
    "    return - x + method2_recursion(n-1)"
   ]
  },
  {
   "cell_type": "code",
   "execution_count": 537,
   "metadata": {},
   "outputs": [],
   "source": [
    "def method3_recursion(n, num, den):\n",
    "  '''\n",
    "  Returns the recursive step for the third method consuming n, when producing\n",
    "  nth approximation of pi.\n",
    "  \n",
    "  method3_recursion: Nat -> Float\n",
    "  Requires: n <= 100\n",
    "  '''\n",
    "  if n == 0:\n",
    "    return 1\n",
    "  else:\n",
    "    return 1 + ((num / den) * method3_recursion( n - 1, num + 1, den + 2))"
   ]
  },
  {
   "cell_type": "markdown",
   "metadata": {},
   "source": [
    "## Our main function"
   ]
  },
  {
   "cell_type": "code",
   "execution_count": 538,
   "metadata": {},
   "outputs": [],
   "source": [
    "def pi_approximation(n, method):\n",
    "  '''\n",
    "  Returns the nth pi approximation according to the given method, consuming n \n",
    "  and the method. \n",
    "  \n",
    "  pi_approximation: Nat Str -> Float\n",
    "  Requires: n <= 100\n",
    "  \n",
    "  Examples:\n",
    "      pi_approximation(0, \"Newton-Euler\") => 2.0\n",
    "      pi_approximation(1, \"Madhava\") => 3.0792014356780038\n",
    "      pi_approximation(2, \"Liu Hui\") => 3.132628613281237 \n",
    "  '''\n",
    "  if method == method1:\n",
    "    return 3 * (2 ** n) * math.sqrt(2 - method1_recursion(n))\n",
    "  elif method == method2:\n",
    "    return math.sqrt(12) * method2_recursion(n)\n",
    "  else:\n",
    "    return 2 * method3_recursion(n, 1, 3)"
   ]
  },
  {
   "cell_type": "markdown",
   "metadata": {},
   "source": [
    "# Testing"
   ]
  },
  {
   "cell_type": "markdown",
   "metadata": {},
   "source": [
    "## Sample\n",
    "pi_approximation(0, \"Newton-Euler\") => 2.0<br>\n",
    "pi_approximation(1, \"Madhava\") => 3.0792014356780038<br>\n",
    "pi_approximation(2, \"Liu Hui\") => 3.132628613281237 "
   ]
  },
  {
   "cell_type": "code",
   "execution_count": 539,
   "metadata": {},
   "outputs": [
    {
     "name": "stdout",
     "output_type": "stream",
     "text": [
      "2\n"
     ]
    }
   ],
   "source": [
    "print(pi_approximation(0, \"Newton-Euler\"))"
   ]
  },
  {
   "cell_type": "code",
   "execution_count": 540,
   "metadata": {},
   "outputs": [
    {
     "name": "stdout",
     "output_type": "stream",
     "text": [
      "3.0792014356780038\n"
     ]
    }
   ],
   "source": [
    "print(pi_approximation(1, \"Madhava\"))"
   ]
  },
  {
   "cell_type": "code",
   "execution_count": 541,
   "metadata": {},
   "outputs": [
    {
     "name": "stdout",
     "output_type": "stream",
     "text": [
      "3.132628613281237\n"
     ]
    }
   ],
   "source": [
    "print(pi_approximation(2, \"Liu Hui\"))"
   ]
  },
  {
   "cell_type": "markdown",
   "metadata": {},
   "source": [
    "## Other tests\n",
    "pi_approximation(0, \"Liu Hui\") => 3.0<br>\n",
    "pi_approximation(0, \"Madhava\") => 3.464101615137<br>\n",
    "pi_approximation(1,\"Liu Hui\") => 3.105828541230249<br>\n",
    "pi_approximation(2, \"Madhava\") => 3.15618147156995<br>\n",
    "pi_approximation(1, \"Newton-Euler\") => 2.6666666666<br>\n",
    "pi_approximation(2, \"Newton-Euler\") => 2.9333333333<br>\n",
    "pi_approximation(22, \"Liu Hui\") => 3.14307274017<br>\n",
    "pi_approximation(78, \"Madhava\") => 3.1415926535897<br>\n",
    "pi_approximation(86,\"Newton-Euler\") => 3.14159265 \n",
    "\n"
   ]
  },
  {
   "cell_type": "code",
   "execution_count": 542,
   "metadata": {},
   "outputs": [
    {
     "name": "stdout",
     "output_type": "stream",
     "text": [
      "3.0\n"
     ]
    }
   ],
   "source": [
    "print(pi_approximation(0, \"Liu Hui\"))"
   ]
  },
  {
   "cell_type": "code",
   "execution_count": 543,
   "metadata": {},
   "outputs": [
    {
     "name": "stdout",
     "output_type": "stream",
     "text": [
      "3.4641016151377544\n"
     ]
    }
   ],
   "source": [
    "print(pi_approximation(0, \"Madhava\"))"
   ]
  },
  {
   "cell_type": "code",
   "execution_count": 544,
   "metadata": {},
   "outputs": [
    {
     "name": "stdout",
     "output_type": "stream",
     "text": [
      "3.1058285412302498\n"
     ]
    }
   ],
   "source": [
    "print(pi_approximation(1,\"Liu Hui\"))"
   ]
  },
  {
   "cell_type": "code",
   "execution_count": 545,
   "metadata": {},
   "outputs": [
    {
     "name": "stdout",
     "output_type": "stream",
     "text": [
      "3.156181471569954\n"
     ]
    }
   ],
   "source": [
    "print(pi_approximation(2, \"Madhava\"))"
   ]
  },
  {
   "cell_type": "code",
   "execution_count": 546,
   "metadata": {},
   "outputs": [
    {
     "name": "stdout",
     "output_type": "stream",
     "text": [
      "2.6666666666666665\n"
     ]
    }
   ],
   "source": [
    "print(pi_approximation(1, \"Newton-Euler\"))"
   ]
  },
  {
   "cell_type": "code",
   "execution_count": 547,
   "metadata": {},
   "outputs": [
    {
     "name": "stdout",
     "output_type": "stream",
     "text": [
      "2.933333333333333\n"
     ]
    }
   ],
   "source": [
    "print(pi_approximation(2, \"Newton-Euler\"))"
   ]
  },
  {
   "cell_type": "code",
   "execution_count": 548,
   "metadata": {},
   "outputs": [
    {
     "name": "stdout",
     "output_type": "stream",
     "text": [
      "3.1430727401700396\n"
     ]
    }
   ],
   "source": [
    "print(pi_approximation(22, \"Liu Hui\"))"
   ]
  },
  {
   "cell_type": "code",
   "execution_count": 549,
   "metadata": {},
   "outputs": [
    {
     "name": "stdout",
     "output_type": "stream",
     "text": [
      "3.141592653589794\n"
     ]
    }
   ],
   "source": [
    "print(pi_approximation(78, \"Madhava\"))"
   ]
  },
  {
   "cell_type": "code",
   "execution_count": 550,
   "metadata": {},
   "outputs": [
    {
     "name": "stdout",
     "output_type": "stream",
     "text": [
      "3.141592653589793\n"
     ]
    }
   ],
   "source": [
    "print(pi_approximation(86,\"Newton-Euler\"))"
   ]
  }
 ],
 "metadata": {
  "interpreter": {
   "hash": "aee8b7b246df8f9039afb4144a1f6fd8d2ca17a180786b69acc140d282b71a49"
  },
  "kernelspec": {
   "display_name": "Python 3.10.1 64-bit",
   "language": "python",
   "name": "python3"
  },
  "language_info": {
   "name": "python",
   "version": "3.10.1"
  },
  "orig_nbformat": 4
 },
 "nbformat": 4,
 "nbformat_minor": 2
}
